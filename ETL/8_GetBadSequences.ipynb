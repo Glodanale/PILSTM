{
 "cells": [
  {
   "cell_type": "code",
   "execution_count": 1,
   "metadata": {},
   "outputs": [],
   "source": [
    "import mysql.connector\n",
    "import pandas as pd"
   ]
  },
  {
   "cell_type": "code",
   "execution_count": 2,
   "metadata": {},
   "outputs": [],
   "source": [
    "with open('largeLoss.txt', 'r') as file:\n",
    "    content = file.read()\n",
    "    group_ids = content.split(',')\n",
    "\n",
    "group_ids = [id.strip() for id in group_ids]"
   ]
  },
  {
   "cell_type": "code",
   "execution_count": 3,
   "metadata": {},
   "outputs": [],
   "source": [
    "host1 = \"localhost\"\n",
    "port1 = 3306\n",
    "user1 = 'root'\n",
    "database1 = \"ngsim\" \n",
    "password1 = \"dB79*dG2024!\" #fill in your password\n",
    "\n",
    "connection = mysql.connector.connect(\n",
    "            host = host1,\n",
    "            port = port1,\n",
    "            user = user1,\n",
    "            database = database1,\n",
    "            password = password1\n",
    ")\n",
    "\n",
    "cursor = connection.cursor()"
   ]
  },
  {
   "cell_type": "code",
   "execution_count": 4,
   "metadata": {},
   "outputs": [
    {
     "name": "stdout",
     "output_type": "stream",
     "text": [
      "Received from MySQL\n"
     ]
    }
   ],
   "source": [
    "group_ids_str = ','.join(f\"'{id}'\" for id in group_ids)\n",
    "\n",
    "query = f\"SELECT * FROM i_80_processed WHERE Group_ID IN ({group_ids_str})\"\n",
    "\n",
    "cursor.execute(query)\n",
    "\n",
    "results = cursor.fetchall()\n",
    "\n",
    "print(\"Received from MySQL\")"
   ]
  },
  {
   "cell_type": "code",
   "execution_count": 5,
   "metadata": {},
   "outputs": [
    {
     "name": "stdout",
     "output_type": "stream",
     "text": [
      "437\n",
      "Complete\n"
     ]
    }
   ],
   "source": [
    "columns = [col[0] for col in cursor.description]\n",
    "\n",
    "df = pd.DataFrame(results, columns=columns)\n",
    "\n",
    "distinct_groups = df[\"Group_ID\"].nunique()\n",
    "\n",
    "print(distinct_groups)\n",
    "\n",
    "df.to_csv(\"BadSequences.csv\", index=False)\n",
    "\n",
    "cursor.close()\n",
    "connection.close()\n",
    "\n",
    "print(\"Complete\")"
   ]
  }
 ],
 "metadata": {
  "kernelspec": {
   "display_name": "sql",
   "language": "python",
   "name": "python3"
  },
  "language_info": {
   "codemirror_mode": {
    "name": "ipython",
    "version": 3
   },
   "file_extension": ".py",
   "mimetype": "text/x-python",
   "name": "python",
   "nbconvert_exporter": "python",
   "pygments_lexer": "ipython3",
   "version": "3.13.1"
  }
 },
 "nbformat": 4,
 "nbformat_minor": 2
}
