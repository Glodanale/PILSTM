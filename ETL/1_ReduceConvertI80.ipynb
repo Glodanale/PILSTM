{
 "cells": [
  {
   "cell_type": "markdown",
   "id": "c5e31e97",
   "metadata": {},
   "source": [
    "# ReduceConvertI80.ipynb\n",
    "\n",
    "In this file we:\n",
    "\n",
    "> **1.** Read full NGSIM dataset as a dataframe\n",
    "\n",
    "> **2.** Drop unnecessary columns (the dataset is huge)\n",
    "\n",
    "> **3.** Select only the data from i-80 as its own dataset\n",
    "\n",
    "> **4.** Convert the feet measurements into meters\n",
    "\n",
    "> **5.** Push the new i-80 dataset to my ngsim MySQL database as a table called \"ngsim_i_80\""
   ]
  },
  {
   "cell_type": "code",
   "execution_count": null,
   "id": "bb51f7f4",
   "metadata": {},
   "outputs": [],
   "source": [
    "import pandas as pd\n",
    "import numpy as np\n",
    "import mysql.connector\n",
    "from sqlalchemy import create_engine"
   ]
  },
  {
   "cell_type": "code",
   "execution_count": null,
   "id": "1d13f238-c0a9-41b6-8157-b42886461aa4",
   "metadata": {
    "tags": []
   },
   "outputs": [],
   "source": [
    "host1 = \"localhost\"\n",
    "port1 = 3306\n",
    "user1 = 'root'\n",
    "database1 = \"ngsim\"\n",
    "password1 = \"dB79*dG2024!\"\n",
    "\n",
    "connection = mysql.connector.connect(\n",
    "            host = host1,\n",
    "            port = port1,\n",
    "            user = user1,\n",
    "            database = database1,\n",
    "            password = password1\n",
    ")\n",
    "\n",
    "cursor = connection.cursor()"
   ]
  },
  {
   "cell_type": "code",
   "execution_count": null,
   "id": "21ac8eb3-f2c4-43b8-a102-4bef3eb7a139",
   "metadata": {
    "tags": []
   },
   "outputs": [],
   "source": [
    "df = pd.read_csv(\"NGSIM.csv\")"
   ]
  },
  {
   "cell_type": "code",
   "execution_count": null,
   "id": "95e2c787-a8e8-4665-9127-08290496873b",
   "metadata": {
    "scrolled": true,
    "tags": []
   },
   "outputs": [],
   "source": [
    "columns_to_keep = [\"Vehicle_ID\", \"Global_Time\", \"v_Vel\", \"v_Acc\", \"Lane_ID\", \"Preceding\", \"Following\", \"Space_Headway\", \"Location\"]\n",
    "df = df[columns_to_keep]\n",
    "print(df)"
   ]
  },
  {
   "cell_type": "code",
   "execution_count": null,
   "id": "331bba0c-aa7f-4f96-a4bc-fb177495879f",
   "metadata": {
    "tags": []
   },
   "outputs": [],
   "source": [
    "i_80 = df[df[\"Location\"] == \"i-80\"]\n",
    "i_80.reset_index(drop=True, inplace=True)"
   ]
  },
  {
   "cell_type": "code",
   "execution_count": null,
   "id": "60f31845",
   "metadata": {},
   "outputs": [],
   "source": [
    "i_80[\"v_vel\"] = i_80[\"v_vel\"] / 3.281\n",
    "i_80[\"v_Acc\"] = i_80[\"v_Acc\"] / 3.281\n",
    "i_80[\"Space_Headway\"] = i_80[\"Space_Headway\"] / 3.281"
   ]
  },
  {
   "cell_type": "code",
   "execution_count": null,
   "id": "5c9202ef-bf71-4ec5-a70e-1e4fec96f40e",
   "metadata": {
    "scrolled": true,
    "tags": []
   },
   "outputs": [],
   "source": [
    "engine = create_engine(f'mysql+mysqlconnector://{user1}:{password1}@{host1}/{database1}')\n",
    "\n",
    "i_80.to_sql(name='ngsim_i_80', con=engine, if_exists='replace', index=False, chunksize=1000)"
   ]
  },
  {
   "cell_type": "code",
   "execution_count": null,
   "id": "5f40fd7a-e113-4cfc-b6ea-4898dc2cf775",
   "metadata": {},
   "outputs": [],
   "source": []
  }
 ],
 "metadata": {
  "kernelspec": {
   "display_name": "base",
   "language": "python",
   "name": "python3"
  },
  "language_info": {
   "codemirror_mode": {
    "name": "ipython",
    "version": 3
   },
   "file_extension": ".py",
   "mimetype": "text/x-python",
   "name": "python",
   "nbconvert_exporter": "python",
   "pygments_lexer": "ipython3",
   "version": "3.12.4"
  }
 },
 "nbformat": 4,
 "nbformat_minor": 5
}
